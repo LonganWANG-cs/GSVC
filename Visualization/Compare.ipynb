{
 "cells": [
  {
   "cell_type": "code",
   "execution_count": 40,
   "metadata": {},
   "outputs": [],
   "source": [
    "import os\n",
    "import pandas as pd\n",
    "import matplotlib.pyplot as plt\n",
    "import numpy as np"
   ]
  },
  {
   "cell_type": "code",
   "execution_count": 41,
   "metadata": {},
   "outputs": [],
   "source": [
    "# Base directory where datasets are stored\n",
    "dir_baseline = '../checkpoints/result/'\n",
    "dir_density_1 = '../checkpoints/result_density/'\n",
    "# dir_density_2 = '../checkpoints/result_density_warmup/'\n",
    "datasets = ['Beauty', 'HoneyBee', 'Jockey']\n",
    "\n"
   ]
  },
  {
   "cell_type": "code",
   "execution_count": 42,
   "metadata": {},
   "outputs": [],
   "source": [
    "def parse_train_txt(train_txt_path):\n",
    "    with open(train_txt_path, 'r') as file:\n",
    "        lines = file.readlines()\n",
    "        last_line = lines[-1].strip()\n",
    "        data = last_line.split(',')\n",
    "        result = {\n",
    "            'PSNR': float(data[1].split(':')[-1]),\n",
    "            'MS-SSIM': float(data[2].split(':')[-1]),\n",
    "            'Training': float(data[3].split(':')[-1][:-1]),\n",
    "            'Eval': float(data[4].split(':')[-1][:-1]),\n",
    "            'FPS': float(data[5].split(':')[-1]),\n",
    "            'Size': float(data[6].split(':')[-1]),\n",
    "            'Gaussian_number':float(data[7].split(':')[-1])\n",
    "        }    \n",
    "    return result"
   ]
  },
  {
   "cell_type": "code",
   "execution_count": 45,
   "metadata": {},
   "outputs": [
    {
     "name": "stdout",
     "output_type": "stream",
     "text": [
      "[{'PSNR': 34.3799, 'MS-SSIM': 0.9155, 'Training': 7.0503, 'Eval': 0.00053763, 'FPS': 1865.1147, 'Size': 275.1449, 'Gaussian_number': 15000.0, 'Dataset': 'Beauty'}, {'PSNR': 34.7093, 'MS-SSIM': 0.9223, 'Training': 7.3023, 'Eval': 0.00058275, 'FPS': 1721.2822, 'Size': 412.4397, 'Gaussian_number': 22500.0, 'Dataset': 'Beauty'}, {'PSNR': 34.9557, 'MS-SSIM': 0.928, 'Training': 7.6094, 'Eval': 0.00061627, 'FPS': 1625.6292, 'Size': 549.842, 'Gaussian_number': 30000.0, 'Dataset': 'Beauty'}, {'PSNR': 35.1669, 'MS-SSIM': 0.9329, 'Training': 7.891, 'Eval': 0.00064624, 'FPS': 1549.9429, 'Size': 687.1356, 'Gaussian_number': 37500.0, 'Dataset': 'Beauty'}, {'PSNR': 35.349, 'MS-SSIM': 0.9373, 'Training': 8.1665, 'Eval': 0.00066978, 'FPS': 1495.3807, 'Size': 824.4647, 'Gaussian_number': 45000.0, 'Dataset': 'Beauty'}, {'PSNR': 33.7853, 'MS-SSIM': 0.9058, 'Training': 6.4036, 'Eval': 0.00049817, 'FPS': 2010.6984, 'Size': 137.8158, 'Gaussian_number': 7500.0, 'Dataset': 'Beauty'}, {'PSNR': 36.1933, 'MS-SSIM': 0.9786, 'Training': 7.3321, 'Eval': 0.00058349, 'FPS': 1718.075, 'Size': 275.1449, 'Gaussian_number': 15000.0, 'Dataset': 'HoneyBee'}, {'PSNR': 37.3051, 'MS-SSIM': 0.9827, 'Training': 7.5688, 'Eval': 0.00061518, 'FPS': 1627.4619, 'Size': 412.4397, 'Gaussian_number': 22500.0, 'Dataset': 'HoneyBee'}, {'PSNR': 37.9006, 'MS-SSIM': 0.9848, 'Training': 7.8704, 'Eval': 0.00063766, 'FPS': 1569.8293, 'Size': 549.842, 'Gaussian_number': 30000.0, 'Dataset': 'HoneyBee'}, {'PSNR': 38.3051, 'MS-SSIM': 0.9862, 'Training': 8.1587, 'Eval': 0.0006614, 'FPS': 1513.3208, 'Size': 687.1356, 'Gaussian_number': 37500.0, 'Dataset': 'HoneyBee'}, {'PSNR': 38.593, 'MS-SSIM': 0.9872, 'Training': 8.4179, 'Eval': 0.00068012, 'FPS': 1471.5662, 'Size': 824.4647, 'Gaussian_number': 45000.0, 'Dataset': 'HoneyBee'}, {'PSNR': 33.6994, 'MS-SSIM': 0.9643, 'Training': 6.6923, 'Eval': 0.00054961, 'FPS': 1826.0996, 'Size': 137.8158, 'Gaussian_number': 7500.0, 'Dataset': 'HoneyBee'}, {'PSNR': 37.7949, 'MS-SSIM': 0.97, 'Training': 7.4492, 'Eval': 0.00058779, 'FPS': 1714.0929, 'Size': 275.1449, 'Gaussian_number': 15000.0, 'Dataset': 'Jockey'}, {'PSNR': 38.6482, 'MS-SSIM': 0.975, 'Training': 7.7029, 'Eval': 0.00061994, 'FPS': 1621.5392, 'Size': 412.4397, 'Gaussian_number': 22500.0, 'Dataset': 'Jockey'}, {'PSNR': 39.1448, 'MS-SSIM': 0.9778, 'Training': 7.9765, 'Eval': 0.00064197, 'FPS': 1563.6195, 'Size': 549.842, 'Gaussian_number': 30000.0, 'Dataset': 'Jockey'}, {'PSNR': 39.4932, 'MS-SSIM': 0.9798, 'Training': 8.2259, 'Eval': 0.0006644, 'FPS': 1509.8917, 'Size': 687.1356, 'Gaussian_number': 37500.0, 'Dataset': 'Jockey'}, {'PSNR': 39.7639, 'MS-SSIM': 0.9814, 'Training': 8.4656, 'Eval': 0.0006825, 'FPS': 1469.1831, 'Size': 824.4647, 'Gaussian_number': 45000.0, 'Dataset': 'Jockey'}, {'PSNR': 36.0071, 'MS-SSIM': 0.9569, 'Training': 6.9129, 'Eval': 0.00055944, 'FPS': 1805.615, 'Size': 137.8158, 'Gaussian_number': 7500.0, 'Dataset': 'Jockey'}]\n"
     ]
    }
   ],
   "source": [
    "\n",
    "# List to store results\n",
    "results_baseline = []\n",
    "results_new_method_1 = []\n",
    "\n",
    "# Loop through datasets and collect data from train.txt files\n",
    "def get_method_data(dir_path):\n",
    "    results = []\n",
    "    for dataset in datasets:\n",
    "        dataset_path = os.path.join(dir_path, dataset)\n",
    "        for dir_name in os.listdir(dataset_path):\n",
    "            if dir_name.startswith('GaussianImage_Cholesky'):\n",
    "                train_txt_path = os.path.join(dataset_path, dir_name, 'train.txt')\n",
    "                result= parse_train_txt(train_txt_path)\n",
    "                result['Dataset'] = dataset\n",
    "                results.append(result)\n",
    "    return results\n",
    "\n",
    "results_baseline = get_method_data(dir_baseline)\n",
    "results_new_method_1= get_method_data(dir_baseline)\n",
    "\n",
    "# Sort the results by GaussianCount before converting to DataFrame\n",
    "results_sorted_baseline = sorted(results_baseline, key=lambda x: x['Gaussian_number'])\n",
    "# Convert results to a DataFrame\n",
    "df_baseline = pd.DataFrame(results_sorted_baseline)\n",
    "# Sort the results by GaussianCount before converting to DataFrame\n",
    "results_sorted_new_method_1 = sorted(results_new_method_1, key=lambda x: x['Gaussian_number'])\n",
    "# Convert results to a DataFrame\n",
    "df_new_method_1 = pd.DataFrame(results_sorted_new_method_1)\n"
   ]
  },
  {
   "cell_type": "code",
   "execution_count": 32,
   "metadata": {},
   "outputs": [],
   "source": [
    "def plot_gaussian_vs_metrics(df_baseline, df_new_method_1):\n",
    "    for dataset in datasets:\n",
    "        # 按 GaussianCount 排序确保一致\n",
    "        subset_df_baseline = df_baseline[df_baseline['Dataset'] == dataset].sort_values(by='Gaussian_number')\n",
    "        subset_df_new_method_1 = df_new_method_1[df_new_method_1['Dataset'] == dataset].sort_values(by='Gaussian_number')\n",
    "        \n",
    "       \n",
    "        plt.figure(figsize=(10, 5))\n",
    "\n",
    "        # 第一个子图：Gaussian count vs PSNR\n",
    "        plt.subplot(2, 1, 1)\n",
    "\n",
    "        # 添加散点图和连线\n",
    "        plt.scatter(subset_df_baseline['Gaussian_number'], subset_df_baseline['PSNR'], \n",
    "                    color='blue', alpha=0.7, s=50, label='BaseLine', edgecolor='black')\n",
    "        plt.scatter(subset_df_new_method_1['Gaussian_number'], subset_df_new_method_1['PSNR'], \n",
    "                    color='green', alpha=0.7, s=50, label='adaptive_control', edgecolor='black')\n",
    "\n",
    "\n",
    "\n",
    "        # 绘制连线\n",
    "        plt.plot(subset_df_baseline['Gaussian_number'], subset_df_baseline['PSNR'], \n",
    "                 'b-', alpha=0.5)\n",
    "        plt.plot(subset_df_new_method_1['Gaussian_number'], subset_df_new_method_1['PSNR'], \n",
    "                 'g-', alpha=0.5)\n",
    "\n",
    "\n",
    "\n",
    "        # 添加标题和标签\n",
    "        plt.xlabel('Gaussian Number', fontsize=14, fontweight='bold')\n",
    "        plt.ylabel('PSNR (dB)', fontsize=14, fontweight='bold')\n",
    "        plt.title(f'{dataset} - Gaussian Number vs PSNR', fontsize=16, fontweight='bold')\n",
    "\n",
    "        # 调整 X 轴刻度和网格\n",
    "        # plt.xticks(range(4000, 10000, 2000))\n",
    "        plt.grid(True, which='both', linestyle='--', linewidth=0.5)\n",
    "        plt.legend()\n",
    "\n",
    "        # 第二个子图：Gaussian count vs MS-SSIM\n",
    "        plt.subplot(2, 1, 2)\n",
    "     \n",
    "        plt.scatter(subset_df_baseline['Gaussian_number'], subset_df_baseline['MS-SSIM'], \n",
    "                    color='blue', alpha=0.7, s=50, label='BaseLine', edgecolor='black')\n",
    "        plt.scatter(subset_df_new_method_1['Gaussian_number'], subset_df_new_method_1['MS-SSIM'], \n",
    "                    color='green', alpha=0.7, s=50, label='adaptive_control', edgecolor='black')\n",
    "\n",
    "\n",
    "\n",
    "        # 绘制连线\n",
    "        plt.plot(subset_df_baseline['Gaussian_number'], subset_df_baseline['MS-SSIM'], \n",
    "                 'b-', alpha=0.5)\n",
    "        plt.plot(subset_df_new_method_1['Gaussian_number'], subset_df_new_method_1['MS-SSIM'], \n",
    "                 'g-', alpha=0.5)\n",
    "\n",
    "\n",
    "        # 添加标题和标签\n",
    "        plt.xlabel('Gaussian Number', fontsize=14, fontweight='bold')\n",
    "        plt.ylabel('MS-SSIM', fontsize=14, fontweight='bold')\n",
    "        plt.title(f'{dataset} - Gaussian Number vs MS-SSIM', fontsize=16, fontweight='bold')\n",
    "\n",
    "        # 调整 X 轴刻度和网格\n",
    "        # plt.xticks(range(4000, 10001, 2000))\n",
    "        plt.grid(True, which='both', linestyle='--', linewidth=0.5)\n",
    "        plt.legend()\n",
    "\n",
    "        # 布局调整\n",
    "        plt.tight_layout()\n",
    "\n",
    "        # 保存图像\n",
    "        plt.savefig(f'./img_compare/{dataset}_gaussian_vs_metrics.png')\n",
    "\n",
    "        # 显示图像\n",
    "        plt.show()\n"
   ]
  },
  {
   "cell_type": "code",
   "execution_count": 33,
   "metadata": {},
   "outputs": [
    {
     "ename": "KeyError",
     "evalue": "'Dataset'",
     "output_type": "error",
     "traceback": [
      "\u001b[1;31m---------------------------------------------------------------------------\u001b[0m",
      "\u001b[1;31mKeyError\u001b[0m                                  Traceback (most recent call last)",
      "Cell \u001b[1;32mIn[33], line 1\u001b[0m\n\u001b[1;32m----> 1\u001b[0m \u001b[43mplot_gaussian_vs_metrics\u001b[49m\u001b[43m(\u001b[49m\u001b[43mdf_baseline\u001b[49m\u001b[43m,\u001b[49m\u001b[43mdf_new_method_1\u001b[49m\u001b[43m)\u001b[49m\n",
      "Cell \u001b[1;32mIn[32], line 4\u001b[0m, in \u001b[0;36mplot_gaussian_vs_metrics\u001b[1;34m(df_baseline, df_new_method_1)\u001b[0m\n\u001b[0;32m      1\u001b[0m \u001b[38;5;28;01mdef\u001b[39;00m \u001b[38;5;21mplot_gaussian_vs_metrics\u001b[39m(df_baseline, df_new_method_1):\n\u001b[0;32m      2\u001b[0m     \u001b[38;5;28;01mfor\u001b[39;00m dataset \u001b[38;5;129;01min\u001b[39;00m datasets:\n\u001b[0;32m      3\u001b[0m         \u001b[38;5;66;03m# 按 GaussianCount 排序确保一致\u001b[39;00m\n\u001b[1;32m----> 4\u001b[0m         subset_df_baseline \u001b[38;5;241m=\u001b[39m df_baseline[\u001b[43mdf_baseline\u001b[49m\u001b[43m[\u001b[49m\u001b[38;5;124;43m'\u001b[39;49m\u001b[38;5;124;43mDataset\u001b[39;49m\u001b[38;5;124;43m'\u001b[39;49m\u001b[43m]\u001b[49m \u001b[38;5;241m==\u001b[39m dataset]\u001b[38;5;241m.\u001b[39msort_values(by\u001b[38;5;241m=\u001b[39m\u001b[38;5;124m'\u001b[39m\u001b[38;5;124mGaussian_number\u001b[39m\u001b[38;5;124m'\u001b[39m)\n\u001b[0;32m      5\u001b[0m         subset_df_new_method_1 \u001b[38;5;241m=\u001b[39m df_new_method_1[df_new_method_1[\u001b[38;5;124m'\u001b[39m\u001b[38;5;124mDataset\u001b[39m\u001b[38;5;124m'\u001b[39m] \u001b[38;5;241m==\u001b[39m dataset]\u001b[38;5;241m.\u001b[39msort_values(by\u001b[38;5;241m=\u001b[39m\u001b[38;5;124m'\u001b[39m\u001b[38;5;124mGaussian_number\u001b[39m\u001b[38;5;124m'\u001b[39m)\n\u001b[0;32m      8\u001b[0m         plt\u001b[38;5;241m.\u001b[39mfigure(figsize\u001b[38;5;241m=\u001b[39m(\u001b[38;5;241m10\u001b[39m, \u001b[38;5;241m5\u001b[39m))\n",
      "File \u001b[1;32mc:\\application\\anaconda\\envs\\pytorch\\lib\\site-packages\\pandas\\core\\frame.py:3761\u001b[0m, in \u001b[0;36mDataFrame.__getitem__\u001b[1;34m(self, key)\u001b[0m\n\u001b[0;32m   3759\u001b[0m \u001b[38;5;28;01mif\u001b[39;00m \u001b[38;5;28mself\u001b[39m\u001b[38;5;241m.\u001b[39mcolumns\u001b[38;5;241m.\u001b[39mnlevels \u001b[38;5;241m>\u001b[39m \u001b[38;5;241m1\u001b[39m:\n\u001b[0;32m   3760\u001b[0m     \u001b[38;5;28;01mreturn\u001b[39;00m \u001b[38;5;28mself\u001b[39m\u001b[38;5;241m.\u001b[39m_getitem_multilevel(key)\n\u001b[1;32m-> 3761\u001b[0m indexer \u001b[38;5;241m=\u001b[39m \u001b[38;5;28;43mself\u001b[39;49m\u001b[38;5;241;43m.\u001b[39;49m\u001b[43mcolumns\u001b[49m\u001b[38;5;241;43m.\u001b[39;49m\u001b[43mget_loc\u001b[49m\u001b[43m(\u001b[49m\u001b[43mkey\u001b[49m\u001b[43m)\u001b[49m\n\u001b[0;32m   3762\u001b[0m \u001b[38;5;28;01mif\u001b[39;00m is_integer(indexer):\n\u001b[0;32m   3763\u001b[0m     indexer \u001b[38;5;241m=\u001b[39m [indexer]\n",
      "File \u001b[1;32mc:\\application\\anaconda\\envs\\pytorch\\lib\\site-packages\\pandas\\core\\indexes\\range.py:349\u001b[0m, in \u001b[0;36mRangeIndex.get_loc\u001b[1;34m(self, key)\u001b[0m\n\u001b[0;32m    347\u001b[0m         \u001b[38;5;28;01mraise\u001b[39;00m \u001b[38;5;167;01mKeyError\u001b[39;00m(key) \u001b[38;5;28;01mfrom\u001b[39;00m \u001b[38;5;21;01merr\u001b[39;00m\n\u001b[0;32m    348\u001b[0m \u001b[38;5;28;01mif\u001b[39;00m \u001b[38;5;28misinstance\u001b[39m(key, Hashable):\n\u001b[1;32m--> 349\u001b[0m     \u001b[38;5;28;01mraise\u001b[39;00m \u001b[38;5;167;01mKeyError\u001b[39;00m(key)\n\u001b[0;32m    350\u001b[0m \u001b[38;5;28mself\u001b[39m\u001b[38;5;241m.\u001b[39m_check_indexing_error(key)\n\u001b[0;32m    351\u001b[0m \u001b[38;5;28;01mraise\u001b[39;00m \u001b[38;5;167;01mKeyError\u001b[39;00m(key)\n",
      "\u001b[1;31mKeyError\u001b[0m: 'Dataset'"
     ]
    }
   ],
   "source": [
    "plot_gaussian_vs_metrics(df_baseline,df_new_method_1)"
   ]
  }
 ],
 "metadata": {
  "kernelspec": {
   "display_name": "pytorch",
   "language": "python",
   "name": "python3"
  },
  "language_info": {
   "codemirror_mode": {
    "name": "ipython",
    "version": 3
   },
   "file_extension": ".py",
   "mimetype": "text/x-python",
   "name": "python",
   "nbconvert_exporter": "python",
   "pygments_lexer": "ipython3",
   "version": "3.8.19"
  }
 },
 "nbformat": 4,
 "nbformat_minor": 2
}
