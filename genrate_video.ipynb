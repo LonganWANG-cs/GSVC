{
 "cells": [
  {
   "cell_type": "code",
   "execution_count": 1,
   "metadata": {},
   "outputs": [
    {
     "name": "stdout",
     "output_type": "stream",
     "text": [
      "RGB 图像已保存到: ./grey_rgb.png\n",
      "YUV 视频已保存到: ./grey.yuv\n"
     ]
    }
   ],
   "source": [
    "import numpy as np\n",
    "import cv2\n",
    "\n",
    "# 视频分辨率\n",
    "width, height = 1920, 1080\n",
    "\n",
    "# RGB 值\n",
    "R, G, B = 126, 127, 128\n",
    "\n",
    "# 创建 RGB 图像\n",
    "rgb_image = np.zeros((height, width, 3), dtype=np.uint8)\n",
    "rgb_image[:, :, 0] = B  # Blue channel\n",
    "rgb_image[:, :, 1] = G  # Green channel\n",
    "rgb_image[:, :, 2] = R  # Red channel\n",
    "\n",
    "# 保存 RGB 图像\n",
    "rgb_output_path = './grey_rgb.png'\n",
    "cv2.imwrite(rgb_output_path, rgb_image)\n",
    "print(f\"RGB 图像已保存到: {rgb_output_path}\")\n",
    "\n",
    "# 将 RGB 图像转换为 YUV\n",
    "yuv_image = cv2.cvtColor(rgb_image, cv2.COLOR_BGR2YUV)\n",
    "\n",
    "# 分离 Y, U, V 平面\n",
    "Y_plane = yuv_image[:, :, 0]\n",
    "U_plane = cv2.resize(yuv_image[:, :, 1], (width // 2, height // 2), interpolation=cv2.INTER_LINEAR)  # 4:2:0 子采样\n",
    "V_plane = cv2.resize(yuv_image[:, :, 2], (width // 2, height // 2), interpolation=cv2.INTER_LINEAR)\n",
    "\n",
    "# 合并 Y, U, V 平面为 YUV 数据\n",
    "yuv_data = np.concatenate([Y_plane.flatten(), U_plane.flatten(), V_plane.flatten()])\n",
    "\n",
    "# 保存为 .yuv 文件\n",
    "yuv_output_path = './grey.yuv'\n",
    "with open(yuv_output_path, 'wb') as f:\n",
    "    f.write(yuv_data)\n",
    "\n",
    "print(f\"YUV 视频已保存到: {yuv_output_path}\")\n"
   ]
  },
  {
   "cell_type": "code",
   "execution_count": 1,
   "metadata": {},
   "outputs": [
    {
     "data": {
      "image/png": "[encoded data removed]",
      "text/plain": [
       "<Figure size 1000x600 with 1 Axes>"
      ]
     },
     "metadata": {},
     "output_type": "display_data"
    }
   ],
   "source": [
    "import numpy as np\n",
    "import cv2\n",
    "import matplotlib.pyplot as plt\n",
    "\n",
    "# 视频参数\n",
    "width = 1920  # 视频宽度\n",
    "height = 1080  # 视频高度\n",
    "yuv_file = 'grey.yuv'  # YUV 文件路径\n",
    "\n",
    "# 读取 YUV 文件\n",
    "with open(yuv_file, 'rb') as f:\n",
    "    yuv_data = f.read()\n",
    "\n",
    "# 计算 YUV 4:2:0 格式的平面大小\n",
    "frame_size = width * height * 3 // 2  # 4:2:0 格式每帧占用的字节数\n",
    "assert len(yuv_data) >= frame_size, \"YUV 文件数据不足，无法读取第一帧。\"\n",
    "\n",
    "# 分离 YUV 平面\n",
    "Y_plane = np.frombuffer(yuv_data[0:width * height], dtype=np.uint8).reshape((height, width))\n",
    "U_plane = np.frombuffer(yuv_data[width * height:width * height + (width // 2) * (height // 2)], dtype=np.uint8).reshape((height // 2, width // 2))\n",
    "V_plane = np.frombuffer(yuv_data[width * height + (width // 2) * (height // 2):frame_size], dtype=np.uint8).reshape((height // 2, width // 2))\n",
    "\n",
    "# 恢复 U 和 V 到与 Y 相同的尺寸\n",
    "U_plane_full = cv2.resize(U_plane, (width, height), interpolation=cv2.INTER_LINEAR)\n",
    "V_plane_full = cv2.resize(V_plane, (width, height), interpolation=cv2.INTER_LINEAR)\n",
    "\n",
    "# 合并 YUV 平面到 BGR 格式\n",
    "yuv_frame = np.stack([Y_plane, U_plane_full, V_plane_full], axis=-1).astype(np.uint8)\n",
    "rgb_frame = cv2.cvtColor(yuv_frame, cv2.COLOR_YUV2RGB)\n",
    "\n",
    "# 使用 Matplotlib 显示\n",
    "plt.figure(figsize=(10, 6))\n",
    "plt.imshow(rgb_frame)\n",
    "plt.title(\"First Frame in RGB\")\n",
    "plt.axis(\"off\")\n",
    "plt.show()\n"
   ]
  },
  {
   "cell_type": "code",
   "execution_count": 3,
   "metadata": {},
   "outputs": [
    {
     "name": "stdout",
     "output_type": "stream",
     "text": [
      "黑白网格图像已保存到: ./grid_rgb.png\n",
      "YUV 视频已保存到: ./grid.yuv\n"
     ]
    }
   ],
   "source": [
    "import numpy as np\n",
    "import cv2\n",
    "\n",
    "# 视频分辨率\n",
    "width, height = 1920, 1080\n",
    "\n",
    "# 网格尺寸\n",
    "grid_size = 80  # 每个网格的边长（像素）\n",
    "\n",
    "# 创建黑白网格图像\n",
    "bw_image = np.zeros((height, width), dtype=np.uint8)\n",
    "for i in range(0, height, grid_size):\n",
    "    for j in range(0, width, grid_size):\n",
    "        if (i // grid_size + j // grid_size) % 2 == 0:\n",
    "            bw_image[i:i+grid_size, j:j+grid_size] = 255  # 白色网格\n",
    "\n",
    "# 将黑白图像转为 RGB 格式\n",
    "rgb_image = cv2.cvtColor(bw_image, cv2.COLOR_GRAY2BGR)\n",
    "\n",
    "# 保存黑白网格图像\n",
    "rgb_output_path = './grid_rgb.png'\n",
    "cv2.imwrite(rgb_output_path, rgb_image)\n",
    "print(f\"黑白网格图像已保存到: {rgb_output_path}\")\n",
    "\n",
    "# 将 RGB 图像转换为 YUV\n",
    "yuv_image = cv2.cvtColor(rgb_image, cv2.COLOR_BGR2YUV)\n",
    "\n",
    "# 分离 Y, U, V 平面\n",
    "Y_plane = yuv_image[:, :, 0]\n",
    "U_plane = cv2.resize(yuv_image[:, :, 1], (width // 2, height // 2), interpolation=cv2.INTER_LINEAR)  # 4:2:0 子采样\n",
    "V_plane = cv2.resize(yuv_image[:, :, 2], (width // 2, height // 2), interpolation=cv2.INTER_LINEAR)\n",
    "\n",
    "# 合并 Y, U, V 平面为 YUV 数据\n",
    "yuv_data = np.concatenate([Y_plane.flatten(), U_plane.flatten(), V_plane.flatten()])\n",
    "\n",
    "# 保存为 .yuv 文件\n",
    "yuv_output_path = './grid.yuv'\n",
    "with open(yuv_output_path, 'wb') as f:\n",
    "    f.write(yuv_data)\n",
    "\n",
    "print(f\"YUV 视频已保存到: {yuv_output_path}\")\n"
   ]
  },
  {
   "cell_type": "code",
   "execution_count": 4,
   "metadata": {},
   "outputs": [
    {
     "data": {
      "image/png": "[encoded data removed]",
      "text/plain": [
       "<Figure size 1000x600 with 1 Axes>"
      ]
     },
     "metadata": {},
     "output_type": "display_data"
    }
   ],
   "source": [
    "import numpy as np\n",
    "import cv2\n",
    "import matplotlib.pyplot as plt\n",
    "\n",
    "# 视频参数\n",
    "width = 1920  # 视频宽度\n",
    "height = 1080  # 视频高度\n",
    "yuv_file = 'grid.yuv'  # YUV 文件路径\n",
    "\n",
    "# 读取 YUV 文件\n",
    "with open(yuv_file, 'rb') as f:\n",
    "    yuv_data = f.read()\n",
    "\n",
    "# 计算 YUV 4:2:0 格式的平面大小\n",
    "frame_size = width * height * 3 // 2  # 4:2:0 格式每帧占用的字节数\n",
    "assert len(yuv_data) >= frame_size, \"YUV 文件数据不足，无法读取第一帧。\"\n",
    "\n",
    "# 分离 YUV 平面\n",
    "Y_plane = np.frombuffer(yuv_data[0:width * height], dtype=np.uint8).reshape((height, width))\n",
    "U_plane = np.frombuffer(yuv_data[width * height:width * height + (width // 2) * (height // 2)], dtype=np.uint8).reshape((height // 2, width // 2))\n",
    "V_plane = np.frombuffer(yuv_data[width * height + (width // 2) * (height // 2):frame_size], dtype=np.uint8).reshape((height // 2, width // 2))\n",
    "\n",
    "# 恢复 U 和 V 到与 Y 相同的尺寸\n",
    "U_plane_full = cv2.resize(U_plane, (width, height), interpolation=cv2.INTER_LINEAR)\n",
    "V_plane_full = cv2.resize(V_plane, (width, height), interpolation=cv2.INTER_LINEAR)\n",
    "\n",
    "# 合并 YUV 平面到 BGR 格式\n",
    "yuv_frame = np.stack([Y_plane, U_plane_full, V_plane_full], axis=-1).astype(np.uint8)\n",
    "rgb_frame = cv2.cvtColor(yuv_frame, cv2.COLOR_YUV2RGB)\n",
    "\n",
    "# 使用 Matplotlib 显示\n",
    "plt.figure(figsize=(10, 6))\n",
    "plt.imshow(rgb_frame)\n",
    "plt.title(\"First Frame in RGB\")\n",
    "plt.axis(\"off\")\n",
    "plt.show()\n"
   ]
  }
 ],
 "metadata": {
  "kernelspec": {
   "display_name": "pytorch",
   "language": "python",
   "name": "python3"
  },
  "language_info": {
   "codemirror_mode": {
    "name": "ipython",
    "version": 3
   },
   "file_extension": ".py",
   "mimetype": "text/x-python",
   "name": "python",
   "nbconvert_exporter": "python",
   "pygments_lexer": "ipython3",
   "version": "3.8.19"
  }
 },
 "nbformat": 4,
 "nbformat_minor": 2
}
