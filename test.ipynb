{
 "cells": [
  {
   "cell_type": "code",
   "execution_count": 27,
   "metadata": {},
   "outputs": [
    {
     "name": "stdout",
     "output_type": "stream",
     "text": [
      "1 1\n",
      "11 2\n",
      "21 3\n",
      "31 4\n",
      "41 5\n",
      "51 6\n",
      "61 7\n",
      "71 8\n",
      "81 9\n",
      "91 10\n"
     ]
    }
   ],
   "source": [
    "step=10\n",
    "destroied_gmodels_frame=0\n",
    "for i in range(0,100):\n",
    "    if i==0 or i%step==0:\n",
    "        destroied_gmodels_frame+=1\n",
    "        print(i+1,destroied_gmodels_frame)"
   ]
  },
  {
   "cell_type": "code",
   "execution_count": 28,
   "metadata": {},
   "outputs": [
    {
     "name": "stdout",
     "output_type": "stream",
     "text": [
      "1 2 11\n",
      "2 3 21\n",
      "3 4 31\n",
      "4 5 41\n",
      "5 6 51\n",
      "6 7 61\n",
      "7 8 71\n",
      "8 9 81\n",
      "9 10 91\n"
     ]
    }
   ],
   "source": [
    "for i in range(0,destroied_gmodels_frame-1):\n",
    "    destroied_pmodelid=i+1\n",
    "    destroied_nmodelid=i+2\n",
    "    recovered_pmodelid=(i+1)*step+1\n",
    "    print(destroied_pmodelid,destroied_nmodelid,recovered_pmodelid)"
   ]
  }
 ],
 "metadata": {
  "kernelspec": {
   "display_name": "pytorch",
   "language": "python",
   "name": "python3"
  },
  "language_info": {
   "codemirror_mode": {
    "name": "ipython",
    "version": 3
   },
   "file_extension": ".py",
   "mimetype": "text/x-python",
   "name": "python",
   "nbconvert_exporter": "python",
   "pygments_lexer": "ipython3",
   "version": "3.8.19"
  }
 },
 "nbformat": 4,
 "nbformat_minor": 2
}
